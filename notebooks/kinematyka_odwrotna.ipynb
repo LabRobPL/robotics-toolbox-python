{
 "cells": [
  {
   "cell_type": "code",
   "execution_count": null,
   "metadata": {},
   "outputs": [],
   "source": [
    "import numpy as np\n",
    "import roboticstoolbox as rtb\n",
    "from spatialmath import *\n",
    "from math import pi\n",
    "import matplotlib.pyplot as plt\n",
    "from matplotlib import cm\n",
    "np.set_printoptions(linewidth=100, formatter={'float': lambda x: f\"{x:8.4g}\" if abs(x) > 1e-10 else f\"{0:8.4g}\"})\n",
    "\n",
    "%matplotlib notebook"
   ]
  },
  {
   "cell_type": "markdown",
   "metadata": {},
   "source": [
    "Rozwiązanie zagadnienia kinematyki odwrotnej, podobnie jak zagadnienia kinematyki prostej, trzeba rozpocząć od stworzenia modelu manipulatora."
   ]
  },
  {
   "cell_type": "code",
   "execution_count": null,
   "metadata": {},
   "outputs": [],
   "source": [
    "L1 = rtb.DHLink(d=1.0, alpha=pi/2, theta=0.0, a=0.5)\n",
    "L2 = rtb.DHLink(theta=0.0, a=0.7)\n",
    "robot = rtb.DHRobot([L1, L2])"
   ]
  },
  {
   "cell_type": "markdown",
   "metadata": {},
   "source": [
    "W następnym kroku konieczne jest określenie położenia i orientacji końcówki manipulatora, dla której zagadnienie  ma zostać rozwiązane. Pozycję tą należny przedstawić w postaci macierzy homogenicznej. Jednym z najprostszych sposobów jest określenie macierzy translacji i rotacji. Macierz translacji tworzy się wykorzystując polecenie **SE3** jak w przykładzie:\n",
    "```py\n",
    "trans = SE3(0.1, 0.2, 0.3)\n",
    "```\n",
    "Kolejne argumenty odpowiadają kolejno współrzędnym x, y i z zadanego punktu. "
   ]
  },
  {
   "cell_type": "code",
   "execution_count": null,
   "metadata": {},
   "outputs": [],
   "source": [
    "trans = SE3(0.5, 0.0, 1.7)\n",
    "trans"
   ]
  },
  {
   "cell_type": "markdown",
   "metadata": {},
   "source": [
    "Powstaje w ten sposób macierz jednorodna, której część związana z rotacją jest macierzą jednostkową.\n",
    "Aby stworzyć odpowiednią macierz rotacji należy skorzystać z polecenia **SE3.OA**.\n",
    "```py\n",
    "y = [0,0,1]\n",
    "z = [1,0,0]\n",
    "rot = SE3.OA(y, z)\n",
    "```\n",
    "Parametry y i z są to:\n",
    "* y - wektor równoległy do osi y narzędzia\n",
    "* z - wektor równoległy do osi z narzędzia"
   ]
  },
  {
   "cell_type": "code",
   "execution_count": null,
   "metadata": {},
   "outputs": [],
   "source": [
    "y = [0,0,1]\n",
    "z = [1,0,0]\n",
    "rot = SE3.OA(y, z)\n",
    "rot"
   ]
  },
  {
   "cell_type": "markdown",
   "metadata": {},
   "source": [
    "Warto zwrócić uwagę, że wektory y i z nie mogą być zerowe lub rónoległe. Nie ma jednak konieczności normalizowania wektorów oraz zapewniania ich prostopadłości. W przypadku pary wektorów nieprostopadłych w macierzy wynikowej zostanie zachowany wektor z a wektor y zostanie do niego dopasowany. Takie działanie wynika z tego, że wektor z określa tzw. kierunek podejścia czyli prościej pozycję osi głównej narzędzia, wektor y odpowiada zaś za obrót narzędzia wokół tej osi."
   ]
  },
  {
   "cell_type": "code",
   "execution_count": null,
   "metadata": {},
   "outputs": [],
   "source": [
    "y = [1,0,0.5]\n",
    "z = [1,0,0]\n",
    "rot = SE3.OA(y, z)\n",
    "rot"
   ]
  },
  {
   "cell_type": "markdown",
   "metadata": {},
   "source": [
    "Mnożąc otrzymane w ten sposób macierze translacji i rotacji można w łatwy sposób utworzyć pożądaną macierz jednorodną."
   ]
  },
  {
   "cell_type": "code",
   "execution_count": null,
   "metadata": {},
   "outputs": [],
   "source": [
    "T = trans * rot\n",
    "T"
   ]
  },
  {
   "cell_type": "markdown",
   "metadata": {},
   "source": [
    "Rozwiązanie rozwiązania zagadnienia kinematyki odwrotnej można otrzymać wywołując na obiekcie robota metodę **ikine_LM** i podając jako argument macierz jednorodną.\n",
    "```py\n",
    "sol = robot.ikine_LM(T)\n",
    "```\n",
    "W zwracanym obiekcie *sol* zawarte są informacje o rozwiązaniu problemu, w tym współrzędne złączowe i informacja o tym czy udało się osiągnąć zadaną pozycję."
   ]
  },
  {
   "cell_type": "code",
   "execution_count": null,
   "metadata": {},
   "outputs": [],
   "source": [
    "sol = robot.ikine_LM(T)\n",
    "sol"
   ]
  },
  {
   "cell_type": "markdown",
   "metadata": {},
   "source": [
    "W przykładzie powyżej widać, że wyliczony wektor współrzędnych złączowych to \\[1.458, -0.5544\\]. Jednak parametr success=False oznacza, że zadana pozycja nie została osiągnięta."
   ]
  },
  {
   "cell_type": "code",
   "execution_count": null,
   "metadata": {},
   "outputs": [],
   "source": [
    "print(sol.success)\n",
    "print(sol.q)"
   ]
  },
  {
   "cell_type": "markdown",
   "metadata": {},
   "source": [
    "W tym przypadku problem wynika z bardzo prostej struktury manipulatora, która daje bardzo małe możliwości ruchu. W niektórych przypadkach, takich jak ten, zachowanie wszystkich ograniczeń odnośnie pozycji końcowej może być niemożliwe lub niepotrzebne. Narzędzie przewiduje takie sytuacje i daje możliwość określenie w metodzie **ikine_LM** maski odpowiadającej za to, które elementy zadanej pozycji muszą zostać dokładnie osiągnięte. Maska powinna być sześcioelementową tablicą zer i jedynek, w której kolejne elementy oznaczają konieczność dokładnego odwzorowania kolejno: pozycji x, y, i z oraz obrotów wokół osi x, y i z.\n",
    "```py\n",
    "mask = np.array([0, 1, 1, 0, 0, 0])   # dokładne odwzorowanie pozycjo w osi y i z\n",
    "sol = robot.ikine_LM(T, mask=mask)\n",
    "```\n",
    "Warto pamiętać, że ilość wartości 1 w masce nie może większa niż ilość stopni swobody manipulatora."
   ]
  },
  {
   "cell_type": "code",
   "execution_count": null,
   "metadata": {},
   "outputs": [],
   "source": [
    "mask = np.array([0, 1, 1, 0, 0, 0])\n",
    "sol = robot.ikine_LM(T, mask=mask)\n",
    "sol"
   ]
  },
  {
   "cell_type": "code",
   "execution_count": null,
   "metadata": {},
   "outputs": [],
   "source": [
    "print(sol.success)\n",
    "print(sol.q)"
   ]
  },
  {
   "cell_type": "markdown",
   "metadata": {},
   "source": [
    "Często podanie tylko zadanej pozycji może nie być wystarczające do znalezienia rozwiązania, mimo że pozycja jest osiągalna. Jeżeli jest to możliwe warto również do metody **ikine_LM** podać wartość początkową zmiennych złączowych.\n",
    "```py\n",
    "mask = np.array([0, 1, 1, 0, 0, 0])\n",
    "q0 = np.array([0.0, 1.0])\n",
    "sol = robot.ikine_LM(T, q0=q0, mask=mask)\n",
    "\n",
    "```"
   ]
  },
  {
   "cell_type": "code",
   "execution_count": null,
   "metadata": {},
   "outputs": [],
   "source": [
    "mask = np.array([0, 1, 1, 0, 0, 0])\n",
    "q0 = np.array([0.0, 1.0])\n",
    "sol = robot.ikine_LM(T, q0=q0, mask=mask)\n",
    "print(sol.success)\n",
    "print(sol.q)"
   ]
  }
 ],
 "metadata": {
  "kernelspec": {
   "display_name": "Python 3",
   "language": "python",
   "name": "python3"
  },
  "language_info": {
   "codemirror_mode": {
    "name": "ipython",
    "version": 3
   },
   "file_extension": ".py",
   "mimetype": "text/x-python",
   "name": "python",
   "nbconvert_exporter": "python",
   "pygments_lexer": "ipython3",
   "version": "3.7.8"
  },
  "toc": {
   "base_numbering": 1,
   "nav_menu": {},
   "number_sections": true,
   "sideBar": true,
   "skip_h1_title": false,
   "title_cell": "Table of Contents",
   "title_sidebar": "Contents",
   "toc_cell": false,
   "toc_position": {},
   "toc_section_display": true,
   "toc_window_display": false
  },
  "varInspector": {
   "cols": {
    "lenName": 16,
    "lenType": 16,
    "lenVar": 40
   },
   "kernels_config": {
    "python": {
     "delete_cmd_postfix": "",
     "delete_cmd_prefix": "del ",
     "library": "var_list.py",
     "varRefreshCmd": "print(var_dic_list())"
    },
    "r": {
     "delete_cmd_postfix": ") ",
     "delete_cmd_prefix": "rm(",
     "library": "var_list.r",
     "varRefreshCmd": "cat(var_dic_list()) "
    }
   },
   "types_to_exclude": [
    "module",
    "function",
    "builtin_function_or_method",
    "instance",
    "_Feature"
   ],
   "window_display": false
  }
 },
 "nbformat": 4,
 "nbformat_minor": 4
}

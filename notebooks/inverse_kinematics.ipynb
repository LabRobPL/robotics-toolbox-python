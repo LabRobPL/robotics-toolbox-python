{
  "cells": [
    {
      "cell_type": "code",
      "source": [
        "import google.colab\n",
        "%pip install roboticstoolbox-python>=1.0.2\n",
        "%pip install colored==1.4.4"
      ],
      "metadata": {
        "id": "4NQ_i3XTXGlN"
      },
      "execution_count": 2,
      "outputs": []
    },
    {
      "cell_type": "code",
      "execution_count": 3,
      "metadata": {
        "id": "UbEeoUA3XBOE"
      },
      "outputs": [],
      "source": [
        "import numpy as np\n",
        "import roboticstoolbox as rtb\n",
        "from spatialmath import *\n",
        "from math import pi\n",
        "import matplotlib.pyplot as plt\n",
        "from matplotlib import cm\n",
        "np.set_printoptions(linewidth=100, formatter={'float': lambda x: f\"{x:8.4g}\" if abs(x) > 1e-10 else f\"{0:8.4g}\"})\n",
        "\n",
        "%matplotlib notebook"
      ]
    },
    {
      "cell_type": "markdown",
      "metadata": {
        "id": "8tqMp0lFXBOH"
      },
      "source": [
        "The solution of the inverse kinematics problem, similarly to the forward kinematics, must be started with the creation of a model of the manipulator."
      ]
    },
    {
      "cell_type": "code",
      "execution_count": 4,
      "metadata": {
        "id": "3Ev7WVTJXBOI"
      },
      "outputs": [],
      "source": [
        "L1 = rtb.DHLink(d=1.0, alpha=pi/2, theta=0.0, a=0.5)\n",
        "L2 = rtb.DHLink(theta=0.0, a=0.7)\n",
        "robot = rtb.DHRobot([L1, L2])"
      ]
    },
    {
      "cell_type": "markdown",
      "metadata": {
        "id": "r7k_vYtiXBOJ"
      },
      "source": [
        "In the next step, it is necessary to determine the position and orientation of the manipulator tip for which the problem is to be solved. This position and orientation should be presented in the form of a homogeneous matrix. One of the simplest ways is to define a translation and rotation matrix. The translation matrix is created using the **SE3** command as in the example:\n",
        "```py\n",
        "trans = SE3(0.1, 0.2, 0.3)\n",
        "```\n",
        "The subsequent arguments correspond to the x, y and z coordinates of the given point. "
      ]
    },
    {
      "cell_type": "code",
      "execution_count": 5,
      "metadata": {
        "id": "qZ9-_BEtXBOL",
        "outputId": "d738bb68-f6a1-4afb-c3f1-32d1d70a0402",
        "colab": {
          "base_uri": "https://localhost:8080/"
        }
      },
      "outputs": [
        {
          "output_type": "execute_result",
          "data": {
            "text/plain": [
              "   1         0         0         0.5       \n",
              "   0         1         0         0         \n",
              "   0         0         1         1.7       \n",
              "   0         0         0         1         \n"
            ]
          },
          "metadata": {},
          "execution_count": 5
        }
      ],
      "source": [
        "trans = SE3(0.5, 0.0, 1.7)\n",
        "trans"
      ]
    },
    {
      "cell_type": "markdown",
      "metadata": {
        "id": "4n9bDYYRXBOM"
      },
      "source": [
        "This creates a homogeneous matrix, the rotation part of which is an identity matrix.\n",
        "To create the appropriate rotation matrix, use the command **SE3.OA**.\n",
        "```py\n",
        "y = [0,0,1]\n",
        "z = [1,0,0]\n",
        "rot = SE3.OA(y, z)\n",
        "```\n",
        "Parameters y and z refers to:\n",
        "* y - vector parallel to the y axis of the tool\n",
        "* z - vector parallel to the z axis of the tool"
      ]
    },
    {
      "cell_type": "code",
      "execution_count": 6,
      "metadata": {
        "id": "sXh0aftOXBON",
        "outputId": "98c961e6-45b9-4939-c602-982ed15a6878",
        "colab": {
          "base_uri": "https://localhost:8080/"
        }
      },
      "outputs": [
        {
          "output_type": "execute_result",
          "data": {
            "text/plain": [
              "   0         0         1         0         \n",
              "   1         0         0         0         \n",
              "   0         1         0         0         \n",
              "   0         0         0         1         \n"
            ]
          },
          "metadata": {},
          "execution_count": 6
        }
      ],
      "source": [
        "y = [0,0,1]\n",
        "z = [1,0,0]\n",
        "rot = SE3.OA(y, z)\n",
        "rot"
      ]
    },
    {
      "cell_type": "markdown",
      "metadata": {
        "id": "hkraenolXBOO"
      },
      "source": [
        "Note that vectors y and z cannot be zero or parallel. However, it is not necessary to normalize the vectors or ensure their perpendicularity. In the case of a pair of non-perpendicular vectors, vector z will be kept in the resulting matrix and vector y will be fitted to it. This operation results from the fact that the vector z determines the so-called direction of approach, or simply the position of the main axis of the tool, the y vector is responsible for the rotation of the tool around this axis."
      ]
    },
    {
      "cell_type": "code",
      "execution_count": 7,
      "metadata": {
        "id": "Tmg5f5W7XBOP",
        "outputId": "85b5fc8c-edd0-4a44-9c7f-852e806ac221",
        "colab": {
          "base_uri": "https://localhost:8080/"
        }
      },
      "outputs": [
        {
          "output_type": "execute_result",
          "data": {
            "text/plain": [
              "   0         0         1         0         \n",
              "   1         0         0         0         \n",
              "   0         1         0         0         \n",
              "   0         0         0         1         \n"
            ]
          },
          "metadata": {},
          "execution_count": 7
        }
      ],
      "source": [
        "y = [1,0,0.5]\n",
        "z = [1,0,0]\n",
        "rot = SE3.OA(y, z)\n",
        "rot"
      ]
    },
    {
      "cell_type": "markdown",
      "metadata": {
        "id": "oHEaMlyuXBOR"
      },
      "source": [
        "By multiplying the translation and rotation matrices obtained in that way, one can easily create the desired homogeneous transformation matrix."
      ]
    },
    {
      "cell_type": "code",
      "execution_count": 8,
      "metadata": {
        "id": "y0md9Xr7XBOS",
        "outputId": "49f039d1-d950-4605-8b06-87e0a254a161",
        "colab": {
          "base_uri": "https://localhost:8080/"
        }
      },
      "outputs": [
        {
          "output_type": "execute_result",
          "data": {
            "text/plain": [
              "   0         0         1         0.5       \n",
              "   1         0         0         0         \n",
              "   0         1         0         1.7       \n",
              "   0         0         0         1         \n"
            ]
          },
          "metadata": {},
          "execution_count": 8
        }
      ],
      "source": [
        "T = trans * rot\n",
        "T"
      ]
    },
    {
      "cell_type": "markdown",
      "metadata": {
        "id": "_UX1CZ1TXBOT"
      },
      "source": [
        "The solution to the inverse kinematics problem can be obtained by calling the **ikine_LM** method on the robot object and passing a homogeneous matrix as an argument.\n",
        "```py\n",
        "sol = robot.ikine_LM(T)\n",
        "```\n",
        "The returned object *sol* contains solution of the problem: vector of joint coordinates and information about whether the given position was reached."
      ]
    },
    {
      "cell_type": "code",
      "execution_count": 10,
      "metadata": {
        "id": "e6tKOEw8XBOU",
        "outputId": "b33e6444-3e35-465f-cfe9-632fdc9ee856",
        "colab": {
          "base_uri": "https://localhost:8080/"
        }
      },
      "outputs": [
        {
          "output_type": "execute_result",
          "data": {
            "text/plain": [
              "IKsolution(q=array([  0.9013,   0.5559]), success=False, reason='rejected-step limit 100 exceeded', iterations=110, residual=1.2066098680096324)"
            ]
          },
          "metadata": {},
          "execution_count": 10
        }
      ],
      "source": [
        "sol = robot.ikine_LM(T)\n",
        "sol"
      ]
    },
    {
      "cell_type": "markdown",
      "metadata": {
        "id": "3h2Fs3h9XBOU"
      },
      "source": [
        "In the example above, you can see that the calculated joint coordinates vector is \\[1.458, -0.5544\\]. However, the parameter success=False means that the given position has not been reached (i.e., there is no solution for inverse kinematics problem)."
      ]
    },
    {
      "cell_type": "code",
      "execution_count": 11,
      "metadata": {
        "id": "zYa5pnLWXBOV",
        "outputId": "10a45f8e-52b3-499e-f37c-4e025e50f155",
        "colab": {
          "base_uri": "https://localhost:8080/"
        }
      },
      "outputs": [
        {
          "output_type": "stream",
          "name": "stdout",
          "text": [
            "False\n",
            "[  0.9013   0.5559]\n"
          ]
        }
      ],
      "source": [
        "print(sol.success)\n",
        "print(sol.q)"
      ]
    },
    {
      "cell_type": "markdown",
      "metadata": {
        "id": "ZxSRJ0tdXBOV"
      },
      "source": [
        "In this case, the problem with the solution is due to the very simple structure of the manipulator, which gives very limited mobility. In such cases, it may not be possible or necessary to maintain all position/orientation constraints. The tool anticipates such situations and makes it possible to specify in the **ikine_LM** method a mask responsible for which elements of the given position must be exactly reached. The mask should be a six-element array of 0s and 1s, in which successive elements mean the need to accurately reproduce, respectively: x, y, and z positions and rotations around the x, y and z axes.\n",
        "```py\n",
        "mask = np.array([0, 1, 1, 0, 0, 0])   # it is required to exactly reach y and z coordinates\n",
        "sol = robot.ikine_LM(T, mask=mask)\n",
        "```\n",
        "You have to remember that the number of 1s in the mask cannot be larger than the number of degrees of freedom of the manipulator."
      ]
    },
    {
      "cell_type": "code",
      "execution_count": 12,
      "metadata": {
        "id": "5YsrhF3eXBOW",
        "outputId": "e12b8f02-5951-423e-f684-0501d9b13b5a",
        "colab": {
          "base_uri": "https://localhost:8080/"
        }
      },
      "outputs": [
        {
          "output_type": "execute_result",
          "data": {
            "text/plain": [
              "IKsolution(q=array([       0,    1.571]), success=True, reason=None, iterations=8, residual=5.058176100192213e-13)"
            ]
          },
          "metadata": {},
          "execution_count": 12
        }
      ],
      "source": [
        "mask = np.array([0, 1, 1, 0, 0, 0])\n",
        "sol = robot.ikine_LM(T, mask=mask)\n",
        "sol"
      ]
    },
    {
      "cell_type": "code",
      "execution_count": 13,
      "metadata": {
        "id": "_9x5byjUXBOX",
        "outputId": "e4c7be7b-9de6-445d-cd78-793b75ed723a",
        "colab": {
          "base_uri": "https://localhost:8080/"
        }
      },
      "outputs": [
        {
          "output_type": "stream",
          "name": "stdout",
          "text": [
            "True\n",
            "[       0    1.571]\n"
          ]
        }
      ],
      "source": [
        "print(sol.success)\n",
        "print(sol.q)"
      ]
    },
    {
      "cell_type": "markdown",
      "metadata": {
        "id": "yXNnVPdNXBOX"
      },
      "source": [
        "Often, specifying only the given position may not be sufficient to find a solution, even though the position is reachable. If it is possible, it is also worth providing the initial value of the joint variables to the **ikine_LM** method.\n",
        "```py\n",
        "mask = np.array([0, 1, 1, 0, 0, 0])\n",
        "q0 = np.array([0.0, 1.0])\n",
        "sol = robot.ikine_LM(T, q0=q0, mask=mask)\n",
        "\n",
        "```"
      ]
    },
    {
      "cell_type": "code",
      "execution_count": 14,
      "metadata": {
        "id": "EuPRDqEZXBOY",
        "outputId": "e151145a-c062-4214-9484-a4268ce67b92",
        "colab": {
          "base_uri": "https://localhost:8080/"
        }
      },
      "outputs": [
        {
          "output_type": "stream",
          "name": "stdout",
          "text": [
            "True\n",
            "[       0    1.571]\n"
          ]
        }
      ],
      "source": [
        "mask = np.array([0, 1, 1, 0, 0, 0])\n",
        "q0 = np.array([0.0, 1.0])\n",
        "sol = robot.ikine_LM(T, q0=q0, mask=mask)\n",
        "print(sol.success)\n",
        "print(sol.q)"
      ]
    }
  ],
  "metadata": {
    "kernelspec": {
      "display_name": "Python 3 (ipykernel)",
      "language": "python",
      "name": "python3"
    },
    "language_info": {
      "codemirror_mode": {
        "name": "ipython",
        "version": 3
      },
      "file_extension": ".py",
      "mimetype": "text/x-python",
      "name": "python",
      "nbconvert_exporter": "python",
      "pygments_lexer": "ipython3",
      "version": "3.7.12"
    },
    "toc": {
      "base_numbering": 1,
      "nav_menu": {},
      "number_sections": true,
      "sideBar": true,
      "skip_h1_title": false,
      "title_cell": "Table of Contents",
      "title_sidebar": "Contents",
      "toc_cell": false,
      "toc_position": {},
      "toc_section_display": true,
      "toc_window_display": false
    },
    "varInspector": {
      "cols": {
        "lenName": 16,
        "lenType": 16,
        "lenVar": 40
      },
      "kernels_config": {
        "python": {
          "delete_cmd_postfix": "",
          "delete_cmd_prefix": "del ",
          "library": "var_list.py",
          "varRefreshCmd": "print(var_dic_list())"
        },
        "r": {
          "delete_cmd_postfix": ") ",
          "delete_cmd_prefix": "rm(",
          "library": "var_list.r",
          "varRefreshCmd": "cat(var_dic_list()) "
        }
      },
      "types_to_exclude": [
        "module",
        "function",
        "builtin_function_or_method",
        "instance",
        "_Feature"
      ],
      "window_display": false
    },
    "colab": {
      "provenance": []
    }
  },
  "nbformat": 4,
  "nbformat_minor": 0
}

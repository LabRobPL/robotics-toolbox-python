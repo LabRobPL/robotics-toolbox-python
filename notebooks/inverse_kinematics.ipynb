{
 "cells": [
  {
   "cell_type": "code",
   "execution_count": null,
   "metadata": {},
   "outputs": [],
   "source": [
    "import numpy as np\n",
    "import roboticstoolbox as rtb\n",
    "from spatialmath import *\n",
    "from math import pi\n",
    "import matplotlib.pyplot as plt\n",
    "from matplotlib import cm\n",
    "np.set_printoptions(linewidth=100, formatter={'float': lambda x: f\"{x:8.4g}\" if abs(x) > 1e-10 else f\"{0:8.4g}\"})\n",
    "\n",
    "%matplotlib notebook"
   ]
  },
  {
   "cell_type": "markdown",
   "metadata": {},
   "source": [
    "The solution of the inverse kinematics problem, similarly to the forward kinematics, must be started with the creation of a model of the manipulator."
   ]
  },
  {
   "cell_type": "code",
   "execution_count": null,
   "metadata": {},
   "outputs": [],
   "source": [
    "L1 = rtb.DHLink(d=1.0, alpha=pi/2, theta=0.0, a=0.5)\n",
    "L2 = rtb.DHLink(theta=0.0, a=0.7)\n",
    "robot = rtb.DHRobot([L1, L2])"
   ]
  },
  {
   "cell_type": "markdown",
   "metadata": {},
   "source": [
    "In the next step, it is necessary to determine the position and orientation of the manipulator tip for which the problem is to be solved. This position and orientation should be presented in the form of a homogeneous matrix. One of the simplest ways is to define a translation and rotation matrix. The translation matrix is created using the **SE3** command as in the example:\n",
    "```py\n",
    "trans = SE3(0.1, 0.2, 0.3)\n",
    "```\n",
    "The subsequent arguments correspond to the x, y and z coordinates of the given point. "
   ]
  },
  {
   "cell_type": "code",
   "execution_count": null,
   "metadata": {},
   "outputs": [],
   "source": [
    "trans = SE3(0.5, 0.0, 1.7)\n",
    "trans"
   ]
  },
  {
   "cell_type": "markdown",
   "metadata": {},
   "source": [
    "This creates a homogeneous matrix, the rotation part of which is an identity matrix.\n",
    "To create the appropriate rotation matrix, use the command **SE3.OA**.\n",
    "```py\n",
    "y = [0,0,1]\n",
    "z = [1,0,0]\n",
    "rot = SE3.OA(y, z)\n",
    "```\n",
    "Parameters y and z refers to:\n",
    "* y - vector parallel to the y axis of the tool\n",
    "* z - vector parallel to the z axis of the tool"
   ]
  },
  {
   "cell_type": "code",
   "execution_count": null,
   "metadata": {},
   "outputs": [],
   "source": [
    "y = [0,0,1]\n",
    "z = [1,0,0]\n",
    "rot = SE3.OA(y, z)\n",
    "rot"
   ]
  },
  {
   "cell_type": "markdown",
   "metadata": {},
   "source": [
    "Note that vectors y and z cannot be zero or parallel. However, it is not necessary to normalize the vectors or ensure their perpendicularity. In the case of a pair of non-perpendicular vectors, vector z will be kept in the resulting matrix and vector y will be fitted to it. This operation results from the fact that the vector z determines the so-called direction of approach, or simply the position of the main axis of the tool, the y vector is responsible for the rotation of the tool around this axis."
   ]
  },
  {
   "cell_type": "code",
   "execution_count": null,
   "metadata": {},
   "outputs": [],
   "source": [
    "y = [1,0,0.5]\n",
    "z = [1,0,0]\n",
    "rot = SE3.OA(y, z)\n",
    "rot"
   ]
  },
  {
   "cell_type": "markdown",
   "metadata": {},
   "source": [
    "By multiplying the translation and rotation matrices obtained in that way, one can easily create the desired homogeneous transformation matrix."
   ]
  },
  {
   "cell_type": "code",
   "execution_count": null,
   "metadata": {},
   "outputs": [],
   "source": [
    "T = trans * rot\n",
    "T"
   ]
  },
  {
   "cell_type": "markdown",
   "metadata": {},
   "source": [
    "The solution to the inverse kinematics problem can be obtained by calling the **ikine_LM** method on the robot object and passing a homogeneous matrix as an argument.\n",
    "```py\n",
    "sol = robot.ikine_LM(T)\n",
    "```\n",
    "The returned object *sol* contains solution of the problem: vector of joint coordinates and information about whether the given position was reached."
   ]
  },
  {
   "cell_type": "code",
   "execution_count": null,
   "metadata": {},
   "outputs": [],
   "source": [
    "sol = robot.ikine_LM(T)\n",
    "sol"
   ]
  },
  {
   "cell_type": "markdown",
   "metadata": {},
   "source": [
    "In the example above, you can see that the calculated joint coordinates vector is \\[1.458, -0.5544\\]. However, the parameter success=False means that the given position has not been reached (i.e., there is no solution for inverse kinematics problem)."
   ]
  },
  {
   "cell_type": "code",
   "execution_count": null,
   "metadata": {},
   "outputs": [],
   "source": [
    "print(sol.success)\n",
    "print(sol.q)"
   ]
  },
  {
   "cell_type": "markdown",
   "metadata": {},
   "source": [
    "In this case, the problem with the solution is due to the very simple structure of the manipulator, which gives very limited mobility. In such cases, it may not be possible or necessary to maintain all position/orientation constraints. The tool anticipates such situations and makes it possible to specify in the **ikine_LM** method a mask responsible for which elements of the given position must be exactly reached. The mask should be a six-element array of 0s and 1s, in which successive elements mean the need to accurately reproduce, respectively: x, y, and z positions and rotations around the x, y and z axes.\n",
    "```py\n",
    "mask = np.array([0, 1, 1, 0, 0, 0])   # it is required to exactly reach y and z coordinates\n",
    "sol = robot.ikine_LM(T, mask=mask)\n",
    "```\n",
    "You have to remember that the number of 1s in the mask cannot be larger than the number of degrees of freedom of the manipulator."
   ]
  },
  {
   "cell_type": "code",
   "execution_count": null,
   "metadata": {},
   "outputs": [],
   "source": [
    "mask = np.array([0, 1, 1, 0, 0, 0])\n",
    "sol = robot.ikine_LM(T, mask=mask)\n",
    "sol"
   ]
  },
  {
   "cell_type": "code",
   "execution_count": null,
   "metadata": {},
   "outputs": [],
   "source": [
    "print(sol.success)\n",
    "print(sol.q)"
   ]
  },
  {
   "cell_type": "markdown",
   "metadata": {},
   "source": [
    "Often, specifying only the given position may not be sufficient to find a solution, even though the position is reachable. If it is possible, it is also worth providing the initial value of the joint variables to the **ikine_LM** method.\n",
    "```py\n",
    "mask = np.array([0, 1, 1, 0, 0, 0])\n",
    "q0 = np.array([0.0, 1.0])\n",
    "sol = robot.ikine_LM(T, q0=q0, mask=mask)\n",
    "\n",
    "```"
   ]
  },
  {
   "cell_type": "code",
   "execution_count": null,
   "metadata": {},
   "outputs": [],
   "source": [
    "mask = np.array([0, 1, 1, 0, 0, 0])\n",
    "q0 = np.array([0.0, 1.0])\n",
    "sol = robot.ikine_LM(T, q0=q0, mask=mask)\n",
    "print(sol.success)\n",
    "print(sol.q)"
   ]
  }
 ],
 "metadata": {
  "kernelspec": {
   "display_name": "Python 3 (ipykernel)",
   "language": "python",
   "name": "python3"
  },
  "language_info": {
   "codemirror_mode": {
    "name": "ipython",
    "version": 3
   },
   "file_extension": ".py",
   "mimetype": "text/x-python",
   "name": "python",
   "nbconvert_exporter": "python",
   "pygments_lexer": "ipython3",
   "version": "3.7.12"
  },
  "toc": {
   "base_numbering": 1,
   "nav_menu": {},
   "number_sections": true,
   "sideBar": true,
   "skip_h1_title": false,
   "title_cell": "Table of Contents",
   "title_sidebar": "Contents",
   "toc_cell": false,
   "toc_position": {},
   "toc_section_display": true,
   "toc_window_display": false
  },
  "varInspector": {
   "cols": {
    "lenName": 16,
    "lenType": 16,
    "lenVar": 40
   },
   "kernels_config": {
    "python": {
     "delete_cmd_postfix": "",
     "delete_cmd_prefix": "del ",
     "library": "var_list.py",
     "varRefreshCmd": "print(var_dic_list())"
    },
    "r": {
     "delete_cmd_postfix": ") ",
     "delete_cmd_prefix": "rm(",
     "library": "var_list.r",
     "varRefreshCmd": "cat(var_dic_list()) "
    }
   },
   "types_to_exclude": [
    "module",
    "function",
    "builtin_function_or_method",
    "instance",
    "_Feature"
   ],
   "window_display": false
  }
 },
 "nbformat": 4,
 "nbformat_minor": 4
}
